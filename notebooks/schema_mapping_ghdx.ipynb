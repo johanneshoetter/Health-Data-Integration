{
 "cells": [
  {
   "cell_type": "code",
   "execution_count": 31,
   "metadata": {},
   "outputs": [],
   "source": [
    "import pandas as pd\n",
    "import sqlalchemy as db\n",
    "\n",
    "engine = db.create_engine('sqlite:///../data/RawHealthData.db')\n",
    "connection = engine.connect()\n",
    "\n",
    "tables = [\n",
    "    'average_price_of_a_pack_of_cigarettes',\n",
    "    'comparing_the_share_of_men_and_women_who_are_smoking',\n",
    "    'consumption_per_smoker_per_day',\n",
    "    'consumption_per_smoker_per_day_bounds',\n",
    "    'daily_smoking_prevalence_bounds',\n",
    "    'enforcement_of_bans_on_tobacco_advertising',\n",
    "    'number_of_deaths_from_secondhand_smoke'\n",
    "]"
   ]
  },
  {
   "cell_type": "code",
   "execution_count": 32,
   "metadata": {},
   "outputs": [],
   "source": [
    "columns =  []\n",
    "for table in tables:\n",
    "    header_df = pd.read_sql_query(\"SELECT * FROM {} LIMIT 1\".format(table), con=engine) # get first row to read column names\n",
    "    columns.extend(header_df.columns[4:])\n",
    "select_map = {table: column for table, column in zip(tables, columns)}"
   ]
  },
  {
   "cell_type": "code",
   "execution_count": 50,
   "metadata": {},
   "outputs": [],
   "source": [
    "alias_map = {}\n",
    "alphabet = list('abcdefghijklmnoprstuvwxyz')\n",
    "for table in select_map.keys():\n",
    "    alias_map[table] = alphabet.pop()"
   ]
  },
  {
   "cell_type": "code",
   "execution_count": 51,
   "metadata": {},
   "outputs": [
    {
     "data": {
      "text/plain": [
       "{'average_price_of_a_pack_of_cigarettes': 'z',\n",
       " 'comparing_the_share_of_men_and_women_who_are_smoking': 'y',\n",
       " 'consumption_per_smoker_per_day': 'x',\n",
       " 'consumption_per_smoker_per_day_bounds': 'w',\n",
       " 'daily_smoking_prevalence_bounds': 'v',\n",
       " 'enforcement_of_bans_on_tobacco_advertising': 'u',\n",
       " 'number_of_deaths_from_secondhand_smoke': 't'}"
      ]
     },
     "execution_count": 51,
     "metadata": {},
     "output_type": "execute_result"
    }
   ],
   "source": [
    "alias_map"
   ]
  },
  {
   "cell_type": "code",
   "execution_count": null,
   "metadata": {},
   "outputs": [],
   "source": [
    "sql = \"\"\"\n",
    "\n",
    "\"\"\"\n",
    "df = "
   ]
  }
 ],
 "metadata": {
  "kernelspec": {
   "display_name": "Python 3",
   "language": "python",
   "name": "python3"
  },
  "language_info": {
   "codemirror_mode": {
    "name": "ipython",
    "version": 3
   },
   "file_extension": ".py",
   "mimetype": "text/x-python",
   "name": "python",
   "nbconvert_exporter": "python",
   "pygments_lexer": "ipython3",
   "version": "3.7.5"
  }
 },
 "nbformat": 4,
 "nbformat_minor": 2
}
