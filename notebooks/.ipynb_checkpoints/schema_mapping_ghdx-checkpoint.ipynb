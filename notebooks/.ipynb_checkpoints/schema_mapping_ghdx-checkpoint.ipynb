{
 "cells": [
  {
   "cell_type": "code",
   "execution_count": 1,
   "metadata": {},
   "outputs": [],
   "source": [
    "import pandas as pd\n",
    "import sqlalchemy as db\n",
    "\n",
    "engine = db.create_engine('sqlite:///../data/RawHealthData.db')\n",
    "connection = engine.connect()"
   ]
  },
  {
   "cell_type": "code",
   "execution_count": 7,
   "metadata": {},
   "outputs": [],
   "source": [
    "from collections import defaultdict\n",
    "\n",
    "table_names = [\n",
    "    'average_price_of_a_pack_of_cigarettes',\n",
    "    'comparing_the_share_of_men_and_women_who_are_smoking',\n",
    "    'consumption_per_smoker_per_day',\n",
    "    'consumption_per_smoker_per_day_bounds',\n",
    "    'daily_smoking_prevalence_bounds',\n",
    "    'enforcement_of_bans_on_tobacco_advertising',\n",
    "    'number_of_deaths_from_secondhand_smoke',\n",
    "    'number_of_deaths_from_tobacco_smoking',\n",
    "    'number_of_total_daily_smokers',\n",
    "    'sales_of_cigarettes_per_adult_per_day',\n",
    "    'secondhand_smoke_deaths_by_age'\n",
    "]"
   ]
  },
  {
   "cell_type": "code",
   "execution_count": 8,
   "metadata": {},
   "outputs": [],
   "source": [
    "select_map = defaultdict(list)\n",
    "for table in table_names:\n",
    "    header_df = pd.read_sql_query(\"SELECT * FROM {} LIMIT 1\".format(table), con=engine) # get first row to read column names\n",
    "    select_map[table].extend(header_df.columns[4:])"
   ]
  },
  {
   "cell_type": "code",
   "execution_count": 9,
   "metadata": {},
   "outputs": [],
   "source": [
    "alias_map = {}\n",
    "alphabet = list('abcdefghijklmnoprstuvwxyz')\n",
    "for table in select_map.keys():\n",
    "    alias_map[table] = alphabet.pop()"
   ]
  },
  {
   "cell_type": "code",
   "execution_count": 10,
   "metadata": {},
   "outputs": [
    {
     "name": "stdout",
     "output_type": "stream",
     "text": [
      "SELECT z.[Code],\n",
      "\tz.[Year],\n",
      "\tz.[Indicator:Average -  cigarette price in international dollars (],\n",
      "\ty.[Share of women (% of women)], \n",
      "\ty.[Share of men (% of men)], \n",
      "\ty.[Unnamed: 5],\n",
      "\tx.[Cigarette consumption per smoker per day (cigarettes)],\n",
      "\tw.[Estimated daily consumption (cigarettes)], \n",
      "\tw.[Upper bound (cigarettes)], \n",
      "\tw.[Lower bound (cigarettes)],\n",
      "\tv.[Upper bound (%)], \n",
      "\tv.[Lower bound (%)], \n",
      "\tv.[Estimated prevalence (%)],\n",
      "\tu.[Indicator:Enforce bans on tobacco advertising],\n",
      "\tt.[Tobacco smoking]\n",
      "FROM average_price_of_a_pack_of_cigarettes z\n",
      "INNER JOIN comparing_the_share_of_men_and_women_who_are_smoking y         \n",
      "\tON y.[Code] = z.[Code] AND y.[Year] = z.[Year]\n",
      "INNER JOIN consumption_per_smoker_per_day x         \n",
      "\tON x.[Code] = y.[Code] AND x.[Year] = y.[Year]\n",
      "INNER JOIN consumption_per_smoker_per_day_bounds w         \n",
      "\tON w.[Code] = x.[Code] AND w.[Year] = x.[Year]\n",
      "INNER JOIN daily_smoking_prevalence_bounds v         \n",
      "\tON v.[Code] = w.[Code] AND v.[Year] = w.[Year]\n",
      "INNER JOIN enforcement_of_bans_on_tobacco_advertising u         \n",
      "\tON u.[Code] = v.[Code] AND u.[Year] = v.[Year]\n",
      "INNER JOIN number_of_deaths_from_tobacco_smoking t         \n",
      "\tON t.[Code] = u.[Code] AND t.[Year] = u.[Year]\n"
     ]
    }
   ],
   "source": [
    "sql_select = \"SELECT z.[Code],\\n\\tz.[Year],\" \n",
    "sql_join = \"\"\n",
    "last_alias = None # not last alias that exist, but last alias that has been used\n",
    "for idx, (table, columns) in enumerate(select_map.items()):\n",
    "    alias = alias_map[table]\n",
    "    \n",
    "    # build the select part\n",
    "    sql_select += ', '.join([\"\\n\\t{}.[{}]\".format(alias, column) for column in columns]) + ','\n",
    "        \n",
    "    # build the from/join part\n",
    "    if last_alias: # INNER JOIN\n",
    "        sql_join += \"\\nINNER JOIN {table} {alias} \\\n",
    "        \\n\\tON {alias}.[Code] = {last_alias}.[Code] AND {alias}.[Year] = {last_alias}.[Year]\".format(table=table, \\\n",
    "                                                                                                 alias=alias, \\\n",
    "                                                                                                 last_alias=last_alias)\n",
    "    else: # FROM\n",
    "        sql_join = \"\\nFROM {} {}\".format(table, alias)\n",
    "    last_alias = alias\n",
    "sql = sql_select[:-1] + sql_join # [:-1] to get rid of last commata\n",
    "print(sql)"
   ]
  },
  {
   "cell_type": "code",
   "execution_count": 11,
   "metadata": {},
   "outputs": [
    {
     "data": {
      "text/plain": [
       "(0, 15)"
      ]
     },
     "execution_count": 11,
     "metadata": {},
     "output_type": "execute_result"
    }
   ],
   "source": [
    "df = pd.read_sql_query(sql, con=engine)\n",
    "df.shape"
   ]
  }
 ],
 "metadata": {
  "kernelspec": {
   "display_name": "Python 3",
   "language": "python",
   "name": "python3"
  },
  "language_info": {
   "codemirror_mode": {
    "name": "ipython",
    "version": 3
   },
   "file_extension": ".py",
   "mimetype": "text/x-python",
   "name": "python",
   "nbconvert_exporter": "python",
   "pygments_lexer": "ipython3",
   "version": "3.7.5"
  }
 },
 "nbformat": 4,
 "nbformat_minor": 2
}
