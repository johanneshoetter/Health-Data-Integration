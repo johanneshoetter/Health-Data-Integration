{
 "cells": [
  {
   "cell_type": "markdown",
   "metadata": {},
   "source": [
    "# Schema Mapping for IHME tables"
   ]
  },
  {
   "cell_type": "code",
   "execution_count": 1,
   "metadata": {},
   "outputs": [],
   "source": [
    "import pandas as pd\n",
    "import sqlalchemy as db\n",
    "engine = db.create_engine('sqlite:///../data/RawHealthData.db')\n",
    "connection = engine.connect()"
   ]
  },
  {
   "cell_type": "code",
   "execution_count": 2,
   "metadata": {},
   "outputs": [],
   "source": [
    "# get all ihme tables that need to be united\n",
    "sql = \"\"\"\n",
    "SELECT name\n",
    "FROM sqlite_master\n",
    "WHERE type = 'table'\n",
    "AND name LIKE 'ihme_gbd%'\n",
    ";\n",
    "\"\"\"\n",
    "df = pd.read_sql_query(sql, engine)\n",
    "ihme_tables = df['name'].values"
   ]
  },
  {
   "cell_type": "code",
   "execution_count": 3,
   "metadata": {},
   "outputs": [],
   "source": [
    "# filter values for the ihme tables\n",
    "# only rows containing information about the following topics will be addressed\n",
    "# reduces ihme content from 360 diseases to the 27 relevant for smoking\n",
    "filter_values = [\n",
    "    \"=          'Esophageal cancer'\",\n",
    "    \"=          'Liver cancer'\",\n",
    "    \"=          'Ectopic pregnancy'\",\n",
    "    \"=          'Tuberculosis'\",\n",
    "    \"=          'Rheumatoid arthritis'\",\n",
    "    \"=          'Bladder cancer'\",\n",
    "    \"=          'Cervical cancer'\",\n",
    "    \"=          'Psoriaris'\",\n",
    "    \"LIKE       '%diabetes%'\",\n",
    "    \"LIKE       '%heart%'\",\n",
    "    \"LIKE       '%vision%'\",\n",
    "    \"LIKE       '%lung%'\",\n",
    "    \"LIKE       '%stroke%'\",\n",
    "    \"LIKE       '%hearing%'\",\n",
    "    \"LIKE       '%dementia%'\"\n",
    "]\n",
    "sql = 'SELECT key AS cause_id, value AS disease FROM cause \\nWHERE' \\\n",
    "      + '\\n   OR'.join([' value {}'.format(filter_value) for filter_value in filter_values]) \\\n",
    "      + ';'\n",
    "result_set = connection.execute(sql).fetchall()\n",
    "\n",
    "# ihme tables will be filtered for the following cause ids\n",
    "cause_ids = ', '.join([str(row[0]) for row in result_set])\n",
    "\n",
    "# unneccessary values will be deleted from the lookup table, indicating which ihme tables won't be needed nomore\n",
    "sql = 'DELETE FROM cause WHERE key NOT IN ({});'.format(cause_ids)\n",
    "connection.execute(sql);"
   ]
  },
  {
   "cell_type": "code",
   "execution_count": 4,
   "metadata": {},
   "outputs": [
    {
     "ename": "OperationalError",
     "evalue": "(sqlite3.OperationalError) SELECTs to the left and right of UNION do not have the same number of result columns\n[SQL: SELECT * FROM ihme_gbd_2017_data_cb71683c_10 WHERE cause_id IN (643, 411, 417, 974, 975, 976, 587, 997, 998, 297, 516, 494, 492, 493, 495, 498, 504, 432, 981, 374, 1000, 543, 474, 627, 674, 675, 426)\nUNION\nSELECT * FROM ihme_gbd_2017_data_cb71683c_11 WHERE cause_id IN (643, 411, 417, 974, 975, 976, 587, 997, 998, 297, 516, 494, 492, 493, 495, 498, 504, 432, 981, 374, 1000, 543, 474, 627, 674, 675, 426)\nUNION\nSELECT * FROM ihme_gbd_2017_data_cb71683c_12 WHERE cause_id IN (643, 411, 417, 974, 975, 976, 587, 997, 998, 297, 516, 494, 492, 493, 495, 498, 504, 432, 981, 374, 1000, 543, 474, 627, 674, 675, 426)\nUNION\nSELECT * FROM ihme_gbd_2017_data_cb71683c_14 WHERE cause_id IN (643, 411, 417, 974, 975, 976, 587, 997, 998, 297, 516, 494, 492, 493, 495, 498, 504, 432, 981, 374, 1000, 543, 474, 627, 674, 675, 426)\nUNION\nSELECT * FROM ihme_gbd_2017_data_cb71683c_15 WHERE cause_id IN (643, 411, 417, 974, 975, 976, 587, 997, 998, 297, 516, 494, 492, 493, 495, 498, 504, 432, 981, 374, 1000, 543, 474, 627, 674, 675, 426)\nUNION\nSELECT * FROM ihme_gbd_2017_data_cb71683c_17 WHERE cause_id IN (643, 411, 417, 974, 975, 976, 587, 997, 998, 297, 516, 494, 492, 493, 495, 498, 504, 432, 981, 374, 1000, 543, 474, 627, 674, 675, 426)\nUNION\nSELECT * FROM ihme_gbd_2017_data_cb71683c_18 WHERE cause_id IN (643, 411, 417, 974, 975, 976, 587, 997, 998, 297, 516, 494, 492, 493, 495, 498, 504, 432, 981, 374, 1000, 543, 474, 627, 674, 675, 426)\nUNION\nSELECT * FROM ihme_gbd_2017_data_cb71683c_19 WHERE cause_id IN (643, 411, 417, 974, 975, 976, 587, 997, 998, 297, 516, 494, 492, 493, 495, 498, 504, 432, 981, 374, 1000, 543, 474, 627, 674, 675, 426)\nUNION\nSELECT * FROM ihme_gbd_2017_data_cb71683c_2 WHERE cause_id IN (643, 411, 417, 974, 975, 976, 587, 997, 998, 297, 516, 494, 492, 493, 495, 498, 504, 432, 981, 374, 1000, 543, 474, 627, 674, 675, 426)\nUNION\nSELECT * FROM ihme_gbd_2017_data_cb71683c_20 WHERE cause_id IN (643, 411, 417, 974, 975, 976, 587, 997, 998, 297, 516, 494, 492, 493, 495, 498, 504, 432, 981, 374, 1000, 543, 474, 627, 674, 675, 426)\nUNION\nSELECT * FROM ihme_gbd_2017_data_cb71683c_21 WHERE cause_id IN (643, 411, 417, 974, 975, 976, 587, 997, 998, 297, 516, 494, 492, 493, 495, 498, 504, 432, 981, 374, 1000, 543, 474, 627, 674, 675, 426)\nUNION\nSELECT * FROM ihme_gbd_2017_data_cb71683c_22 WHERE cause_id IN (643, 411, 417, 974, 975, 976, 587, 997, 998, 297, 516, 494, 492, 493, 495, 498, 504, 432, 981, 374, 1000, 543, 474, 627, 674, 675, 426)\nUNION\nSELECT * FROM ihme_gbd_2017_data_cb71683c_23 WHERE cause_id IN (643, 411, 417, 974, 975, 976, 587, 997, 998, 297, 516, 494, 492, 493, 495, 498, 504, 432, 981, 374, 1000, 543, 474, 627, 674, 675, 426)\nUNION\nSELECT * FROM ihme_gbd_2017_data_cb71683c_24 WHERE cause_id IN (643, 411, 417, 974, 975, 976, 587, 997, 998, 297, 516, 494, 492, 493, 495, 498, 504, 432, 981, 374, 1000, 543, 474, 627, 674, 675, 426)\nUNION\nSELECT * FROM ihme_gbd_2017_data_cb71683c_25 WHERE cause_id IN (643, 411, 417, 974, 975, 976, 587, 997, 998, 297, 516, 494, 492, 493, 495, 498, 504, 432, 981, 374, 1000, 543, 474, 627, 674, 675, 426)\nUNION\nSELECT * FROM ihme_gbd_2017_data_cb71683c_26 WHERE cause_id IN (643, 411, 417, 974, 975, 976, 587, 997, 998, 297, 516, 494, 492, 493, 495, 498, 504, 432, 981, 374, 1000, 543, 474, 627, 674, 675, 426)\nUNION\nSELECT * FROM ihme_gbd_2017_data_cb71683c_27 WHERE cause_id IN (643, 411, 417, 974, 975, 976, 587, 997, 998, 297, 516, 494, 492, 493, 495, 498, 504, 432, 981, 374, 1000, 543, 474, 627, 674, 675, 426)\nUNION\nSELECT * FROM ihme_gbd_2017_data_cb71683c_28 WHERE cause_id IN (643, 411, 417, 974, 975, 976, 587, 997, 998, 297, 516, 494, 492, 493, 495, 498, 504, 432, 981, 374, 1000, 543, 474, 627, 674, 675, 426)\nUNION\nSELECT * FROM ihme_gbd_2017_data_cb71683c_29 WHERE cause_id IN (643, 411, 417, 974, 975, 976, 587, 997, 998, 297, 516, 494, 492, 493, 495, 498, 504, 432, 981, 374, 1000, 543, 474, 627, 674, 675, 426)\nUNION\nSELECT * FROM ihme_gbd_2017_data_cb71683c_3 WHERE cause_id IN (643, 411, 417, 974, 975, 976, 587, 997, 998, 297, 516, 494, 492, 493, 495, 498, 504, 432, 981, 374, 1000, 543, 474, 627, 674, 675, 426)\nUNION\nSELECT * FROM ihme_gbd_2017_data_cb71683c_30 WHERE cause_id IN (643, 411, 417, 974, 975, 976, 587, 997, 998, 297, 516, 494, 492, 493, 495, 498, 504, 432, 981, 374, 1000, 543, 474, 627, 674, 675, 426)\nUNION\nSELECT * FROM ihme_gbd_2017_data_cb71683c_31 WHERE cause_id IN (643, 411, 417, 974, 975, 976, 587, 997, 998, 297, 516, 494, 492, 493, 495, 498, 504, 432, 981, 374, 1000, 543, 474, 627, 674, 675, 426)\nUNION\nSELECT * FROM ihme_gbd_2017_data_cb71683c_4 WHERE cause_id IN (643, 411, 417, 974, 975, 976, 587, 997, 998, 297, 516, 494, 492, 493, 495, 498, 504, 432, 981, 374, 1000, 543, 474, 627, 674, 675, 426)\nUNION\nSELECT * FROM ihme_gbd_2017_data_cb71683c_5 WHERE cause_id IN (643, 411, 417, 974, 975, 976, 587, 997, 998, 297, 516, 494, 492, 493, 495, 498, 504, 432, 981, 374, 1000, 543, 474, 627, 674, 675, 426)\nUNION\nSELECT * FROM ihme_gbd_2017_data_cb71683c_6 WHERE cause_id IN (643, 411, 417, 974, 975, 976, 587, 997, 998, 297, 516, 494, 492, 493, 495, 498, 504, 432, 981, 374, 1000, 543, 474, 627, 674, 675, 426)\nUNION\nSELECT * FROM ihme_gbd_2017_data_cb71683c_7 WHERE cause_id IN (643, 411, 417, 974, 975, 976, 587, 997, 998, 297, 516, 494, 492, 493, 495, 498, 504, 432, 981, 374, 1000, 543, 474, 627, 674, 675, 426)\nUNION\nSELECT * FROM ihme_gbd_2017_data_cb71683c_8 WHERE cause_id IN (643, 411, 417, 974, 975, 976, 587, 997, 998, 297, 516, 494, 492, 493, 495, 498, 504, 432, 981, 374, 1000, 543, 474, 627, 674, 675, 426)\nUNION\nSELECT * FROM ihme_gbd_2017_data_cb71683c_9 WHERE cause_id IN (643, 411, 417, 974, 975, 976, 587, 997, 998, 297, 516, 494, 492, 493, 495, 498, 504, 432, 981, 374, 1000, 543, 474, 627, 674, 675, 426)\nUNION\nSELECT * FROM ihme_gbd_2017_data_cb71683c_1 WHERE cause_id IN (643, 411, 417, 974, 975, 976, 587, 997, 998, 297, 516, 494, 492, 493, 495, 498, 504, 432, 981, 374, 1000, 543, 474, 627, 674, 675, 426)\nUNION\nSELECT * FROM ihme_smoking_diseases WHERE cause_id IN (643, 411, 417, 974, 975, 976, 587, 997, 998, 297, 516, 494, 492, 493, 495, 498, 504, 432, 981, 374, 1000, 543, 474, 627, 674, 675, 426)]\n(Background on this error at: http://sqlalche.me/e/e3q8)",
     "output_type": "error",
     "traceback": [
      "\u001b[1;31m---------------------------------------------------------------------------\u001b[0m",
      "\u001b[1;31mOperationalError\u001b[0m                          Traceback (most recent call last)",
      "\u001b[1;32m~\\AppData\\Local\\Continuum\\anaconda3\\envs\\health-integration\\lib\\site-packages\\sqlalchemy\\engine\\base.py\u001b[0m in \u001b[0;36m_execute_context\u001b[1;34m(self, dialect, constructor, statement, parameters, *args)\u001b[0m\n\u001b[0;32m   1245\u001b[0m                     self.dialect.do_execute(\n\u001b[1;32m-> 1246\u001b[1;33m                         \u001b[0mcursor\u001b[0m\u001b[1;33m,\u001b[0m \u001b[0mstatement\u001b[0m\u001b[1;33m,\u001b[0m \u001b[0mparameters\u001b[0m\u001b[1;33m,\u001b[0m \u001b[0mcontext\u001b[0m\u001b[1;33m\u001b[0m\u001b[1;33m\u001b[0m\u001b[0m\n\u001b[0m\u001b[0;32m   1247\u001b[0m                     )\n",
      "\u001b[1;32m~\\AppData\\Local\\Continuum\\anaconda3\\envs\\health-integration\\lib\\site-packages\\sqlalchemy\\engine\\default.py\u001b[0m in \u001b[0;36mdo_execute\u001b[1;34m(self, cursor, statement, parameters, context)\u001b[0m\n\u001b[0;32m    580\u001b[0m     \u001b[1;32mdef\u001b[0m \u001b[0mdo_execute\u001b[0m\u001b[1;33m(\u001b[0m\u001b[0mself\u001b[0m\u001b[1;33m,\u001b[0m \u001b[0mcursor\u001b[0m\u001b[1;33m,\u001b[0m \u001b[0mstatement\u001b[0m\u001b[1;33m,\u001b[0m \u001b[0mparameters\u001b[0m\u001b[1;33m,\u001b[0m \u001b[0mcontext\u001b[0m\u001b[1;33m=\u001b[0m\u001b[1;32mNone\u001b[0m\u001b[1;33m)\u001b[0m\u001b[1;33m:\u001b[0m\u001b[1;33m\u001b[0m\u001b[1;33m\u001b[0m\u001b[0m\n\u001b[1;32m--> 581\u001b[1;33m         \u001b[0mcursor\u001b[0m\u001b[1;33m.\u001b[0m\u001b[0mexecute\u001b[0m\u001b[1;33m(\u001b[0m\u001b[0mstatement\u001b[0m\u001b[1;33m,\u001b[0m \u001b[0mparameters\u001b[0m\u001b[1;33m)\u001b[0m\u001b[1;33m\u001b[0m\u001b[1;33m\u001b[0m\u001b[0m\n\u001b[0m\u001b[0;32m    582\u001b[0m \u001b[1;33m\u001b[0m\u001b[0m\n",
      "\u001b[1;31mOperationalError\u001b[0m: SELECTs to the left and right of UNION do not have the same number of result columns",
      "\nThe above exception was the direct cause of the following exception:\n",
      "\u001b[1;31mOperationalError\u001b[0m                          Traceback (most recent call last)",
      "\u001b[1;32m<ipython-input-4-a4050219780d>\u001b[0m in \u001b[0;36m<module>\u001b[1;34m\u001b[0m\n\u001b[0;32m      3\u001b[0m     \u001b[1;33m[\u001b[0m\u001b[1;34m\"SELECT * FROM {} WHERE cause_id IN ({})\"\u001b[0m\u001b[1;33m.\u001b[0m\u001b[0mformat\u001b[0m\u001b[1;33m(\u001b[0m\u001b[0mtable_name\u001b[0m\u001b[1;33m,\u001b[0m \u001b[0mcause_ids\u001b[0m\u001b[1;33m)\u001b[0m \u001b[1;32mfor\u001b[0m \u001b[0mtable_name\u001b[0m \u001b[1;32min\u001b[0m \u001b[0mihme_tables\u001b[0m\u001b[1;33m]\u001b[0m\u001b[1;33m\u001b[0m\u001b[1;33m\u001b[0m\u001b[0m\n\u001b[0;32m      4\u001b[0m )\n\u001b[1;32m----> 5\u001b[1;33m \u001b[0mihme_df\u001b[0m \u001b[1;33m=\u001b[0m \u001b[0mpd\u001b[0m\u001b[1;33m.\u001b[0m\u001b[0mread_sql_query\u001b[0m\u001b[1;33m(\u001b[0m\u001b[0msql\u001b[0m\u001b[1;33m,\u001b[0m \u001b[0mengine\u001b[0m\u001b[1;33m)\u001b[0m \u001b[1;31m# 155 seconds\u001b[0m\u001b[1;33m\u001b[0m\u001b[1;33m\u001b[0m\u001b[0m\n\u001b[0m\u001b[0;32m      6\u001b[0m \u001b[0mihme_df\u001b[0m\u001b[1;33m.\u001b[0m\u001b[0mto_sql\u001b[0m\u001b[1;33m(\u001b[0m\u001b[1;34m'ihme_smoking_diseases'\u001b[0m\u001b[1;33m,\u001b[0m \u001b[0mcon\u001b[0m\u001b[1;33m=\u001b[0m\u001b[0mengine\u001b[0m\u001b[1;33m,\u001b[0m \u001b[0mif_exists\u001b[0m\u001b[1;33m=\u001b[0m\u001b[1;34m'replace'\u001b[0m\u001b[1;33m)\u001b[0m\u001b[1;33m\u001b[0m\u001b[1;33m\u001b[0m\u001b[0m\n",
      "\u001b[1;32m~\\AppData\\Local\\Continuum\\anaconda3\\envs\\health-integration\\lib\\site-packages\\pandas\\io\\sql.py\u001b[0m in \u001b[0;36mread_sql_query\u001b[1;34m(sql, con, index_col, coerce_float, params, parse_dates, chunksize)\u001b[0m\n\u001b[0;32m    330\u001b[0m         \u001b[0mcoerce_float\u001b[0m\u001b[1;33m=\u001b[0m\u001b[0mcoerce_float\u001b[0m\u001b[1;33m,\u001b[0m\u001b[1;33m\u001b[0m\u001b[1;33m\u001b[0m\u001b[0m\n\u001b[0;32m    331\u001b[0m         \u001b[0mparse_dates\u001b[0m\u001b[1;33m=\u001b[0m\u001b[0mparse_dates\u001b[0m\u001b[1;33m,\u001b[0m\u001b[1;33m\u001b[0m\u001b[1;33m\u001b[0m\u001b[0m\n\u001b[1;32m--> 332\u001b[1;33m         \u001b[0mchunksize\u001b[0m\u001b[1;33m=\u001b[0m\u001b[0mchunksize\u001b[0m\u001b[1;33m,\u001b[0m\u001b[1;33m\u001b[0m\u001b[1;33m\u001b[0m\u001b[0m\n\u001b[0m\u001b[0;32m    333\u001b[0m     )\n\u001b[0;32m    334\u001b[0m \u001b[1;33m\u001b[0m\u001b[0m\n",
      "\u001b[1;32m~\\AppData\\Local\\Continuum\\anaconda3\\envs\\health-integration\\lib\\site-packages\\pandas\\io\\sql.py\u001b[0m in \u001b[0;36mread_query\u001b[1;34m(self, sql, index_col, coerce_float, parse_dates, params, chunksize)\u001b[0m\n\u001b[0;32m   1216\u001b[0m         \u001b[0margs\u001b[0m \u001b[1;33m=\u001b[0m \u001b[0m_convert_params\u001b[0m\u001b[1;33m(\u001b[0m\u001b[0msql\u001b[0m\u001b[1;33m,\u001b[0m \u001b[0mparams\u001b[0m\u001b[1;33m)\u001b[0m\u001b[1;33m\u001b[0m\u001b[1;33m\u001b[0m\u001b[0m\n\u001b[0;32m   1217\u001b[0m \u001b[1;33m\u001b[0m\u001b[0m\n\u001b[1;32m-> 1218\u001b[1;33m         \u001b[0mresult\u001b[0m \u001b[1;33m=\u001b[0m \u001b[0mself\u001b[0m\u001b[1;33m.\u001b[0m\u001b[0mexecute\u001b[0m\u001b[1;33m(\u001b[0m\u001b[1;33m*\u001b[0m\u001b[0margs\u001b[0m\u001b[1;33m)\u001b[0m\u001b[1;33m\u001b[0m\u001b[1;33m\u001b[0m\u001b[0m\n\u001b[0m\u001b[0;32m   1219\u001b[0m         \u001b[0mcolumns\u001b[0m \u001b[1;33m=\u001b[0m \u001b[0mresult\u001b[0m\u001b[1;33m.\u001b[0m\u001b[0mkeys\u001b[0m\u001b[1;33m(\u001b[0m\u001b[1;33m)\u001b[0m\u001b[1;33m\u001b[0m\u001b[1;33m\u001b[0m\u001b[0m\n\u001b[0;32m   1220\u001b[0m \u001b[1;33m\u001b[0m\u001b[0m\n",
      "\u001b[1;32m~\\AppData\\Local\\Continuum\\anaconda3\\envs\\health-integration\\lib\\site-packages\\pandas\\io\\sql.py\u001b[0m in \u001b[0;36mexecute\u001b[1;34m(self, *args, **kwargs)\u001b[0m\n\u001b[0;32m   1085\u001b[0m     \u001b[1;32mdef\u001b[0m \u001b[0mexecute\u001b[0m\u001b[1;33m(\u001b[0m\u001b[0mself\u001b[0m\u001b[1;33m,\u001b[0m \u001b[1;33m*\u001b[0m\u001b[0margs\u001b[0m\u001b[1;33m,\u001b[0m \u001b[1;33m**\u001b[0m\u001b[0mkwargs\u001b[0m\u001b[1;33m)\u001b[0m\u001b[1;33m:\u001b[0m\u001b[1;33m\u001b[0m\u001b[1;33m\u001b[0m\u001b[0m\n\u001b[0;32m   1086\u001b[0m         \u001b[1;34m\"\"\"Simple passthrough to SQLAlchemy connectable\"\"\"\u001b[0m\u001b[1;33m\u001b[0m\u001b[1;33m\u001b[0m\u001b[0m\n\u001b[1;32m-> 1087\u001b[1;33m         \u001b[1;32mreturn\u001b[0m \u001b[0mself\u001b[0m\u001b[1;33m.\u001b[0m\u001b[0mconnectable\u001b[0m\u001b[1;33m.\u001b[0m\u001b[0mexecute\u001b[0m\u001b[1;33m(\u001b[0m\u001b[1;33m*\u001b[0m\u001b[0margs\u001b[0m\u001b[1;33m,\u001b[0m \u001b[1;33m**\u001b[0m\u001b[0mkwargs\u001b[0m\u001b[1;33m)\u001b[0m\u001b[1;33m\u001b[0m\u001b[1;33m\u001b[0m\u001b[0m\n\u001b[0m\u001b[0;32m   1088\u001b[0m \u001b[1;33m\u001b[0m\u001b[0m\n\u001b[0;32m   1089\u001b[0m     def read_table(\n",
      "\u001b[1;32m~\\AppData\\Local\\Continuum\\anaconda3\\envs\\health-integration\\lib\\site-packages\\sqlalchemy\\engine\\base.py\u001b[0m in \u001b[0;36mexecute\u001b[1;34m(self, statement, *multiparams, **params)\u001b[0m\n\u001b[0;32m   2180\u001b[0m \u001b[1;33m\u001b[0m\u001b[0m\n\u001b[0;32m   2181\u001b[0m         \u001b[0mconnection\u001b[0m \u001b[1;33m=\u001b[0m \u001b[0mself\u001b[0m\u001b[1;33m.\u001b[0m\u001b[0m_contextual_connect\u001b[0m\u001b[1;33m(\u001b[0m\u001b[0mclose_with_result\u001b[0m\u001b[1;33m=\u001b[0m\u001b[1;32mTrue\u001b[0m\u001b[1;33m)\u001b[0m\u001b[1;33m\u001b[0m\u001b[1;33m\u001b[0m\u001b[0m\n\u001b[1;32m-> 2182\u001b[1;33m         \u001b[1;32mreturn\u001b[0m \u001b[0mconnection\u001b[0m\u001b[1;33m.\u001b[0m\u001b[0mexecute\u001b[0m\u001b[1;33m(\u001b[0m\u001b[0mstatement\u001b[0m\u001b[1;33m,\u001b[0m \u001b[1;33m*\u001b[0m\u001b[0mmultiparams\u001b[0m\u001b[1;33m,\u001b[0m \u001b[1;33m**\u001b[0m\u001b[0mparams\u001b[0m\u001b[1;33m)\u001b[0m\u001b[1;33m\u001b[0m\u001b[1;33m\u001b[0m\u001b[0m\n\u001b[0m\u001b[0;32m   2183\u001b[0m \u001b[1;33m\u001b[0m\u001b[0m\n\u001b[0;32m   2184\u001b[0m     \u001b[1;32mdef\u001b[0m \u001b[0mscalar\u001b[0m\u001b[1;33m(\u001b[0m\u001b[0mself\u001b[0m\u001b[1;33m,\u001b[0m \u001b[0mstatement\u001b[0m\u001b[1;33m,\u001b[0m \u001b[1;33m*\u001b[0m\u001b[0mmultiparams\u001b[0m\u001b[1;33m,\u001b[0m \u001b[1;33m**\u001b[0m\u001b[0mparams\u001b[0m\u001b[1;33m)\u001b[0m\u001b[1;33m:\u001b[0m\u001b[1;33m\u001b[0m\u001b[1;33m\u001b[0m\u001b[0m\n",
      "\u001b[1;32m~\\AppData\\Local\\Continuum\\anaconda3\\envs\\health-integration\\lib\\site-packages\\sqlalchemy\\engine\\base.py\u001b[0m in \u001b[0;36mexecute\u001b[1;34m(self, object_, *multiparams, **params)\u001b[0m\n\u001b[0;32m    974\u001b[0m         \"\"\"\n\u001b[0;32m    975\u001b[0m         \u001b[1;32mif\u001b[0m \u001b[0misinstance\u001b[0m\u001b[1;33m(\u001b[0m\u001b[0mobject_\u001b[0m\u001b[1;33m,\u001b[0m \u001b[0mutil\u001b[0m\u001b[1;33m.\u001b[0m\u001b[0mstring_types\u001b[0m\u001b[1;33m[\u001b[0m\u001b[1;36m0\u001b[0m\u001b[1;33m]\u001b[0m\u001b[1;33m)\u001b[0m\u001b[1;33m:\u001b[0m\u001b[1;33m\u001b[0m\u001b[1;33m\u001b[0m\u001b[0m\n\u001b[1;32m--> 976\u001b[1;33m             \u001b[1;32mreturn\u001b[0m \u001b[0mself\u001b[0m\u001b[1;33m.\u001b[0m\u001b[0m_execute_text\u001b[0m\u001b[1;33m(\u001b[0m\u001b[0mobject_\u001b[0m\u001b[1;33m,\u001b[0m \u001b[0mmultiparams\u001b[0m\u001b[1;33m,\u001b[0m \u001b[0mparams\u001b[0m\u001b[1;33m)\u001b[0m\u001b[1;33m\u001b[0m\u001b[1;33m\u001b[0m\u001b[0m\n\u001b[0m\u001b[0;32m    977\u001b[0m         \u001b[1;32mtry\u001b[0m\u001b[1;33m:\u001b[0m\u001b[1;33m\u001b[0m\u001b[1;33m\u001b[0m\u001b[0m\n\u001b[0;32m    978\u001b[0m             \u001b[0mmeth\u001b[0m \u001b[1;33m=\u001b[0m \u001b[0mobject_\u001b[0m\u001b[1;33m.\u001b[0m\u001b[0m_execute_on_connection\u001b[0m\u001b[1;33m\u001b[0m\u001b[1;33m\u001b[0m\u001b[0m\n",
      "\u001b[1;32m~\\AppData\\Local\\Continuum\\anaconda3\\envs\\health-integration\\lib\\site-packages\\sqlalchemy\\engine\\base.py\u001b[0m in \u001b[0;36m_execute_text\u001b[1;34m(self, statement, multiparams, params)\u001b[0m\n\u001b[0;32m   1147\u001b[0m             \u001b[0mparameters\u001b[0m\u001b[1;33m,\u001b[0m\u001b[1;33m\u001b[0m\u001b[1;33m\u001b[0m\u001b[0m\n\u001b[0;32m   1148\u001b[0m             \u001b[0mstatement\u001b[0m\u001b[1;33m,\u001b[0m\u001b[1;33m\u001b[0m\u001b[1;33m\u001b[0m\u001b[0m\n\u001b[1;32m-> 1149\u001b[1;33m             \u001b[0mparameters\u001b[0m\u001b[1;33m,\u001b[0m\u001b[1;33m\u001b[0m\u001b[1;33m\u001b[0m\u001b[0m\n\u001b[0m\u001b[0;32m   1150\u001b[0m         )\n\u001b[0;32m   1151\u001b[0m         \u001b[1;32mif\u001b[0m \u001b[0mself\u001b[0m\u001b[1;33m.\u001b[0m\u001b[0m_has_events\u001b[0m \u001b[1;32mor\u001b[0m \u001b[0mself\u001b[0m\u001b[1;33m.\u001b[0m\u001b[0mengine\u001b[0m\u001b[1;33m.\u001b[0m\u001b[0m_has_events\u001b[0m\u001b[1;33m:\u001b[0m\u001b[1;33m\u001b[0m\u001b[1;33m\u001b[0m\u001b[0m\n",
      "\u001b[1;32m~\\AppData\\Local\\Continuum\\anaconda3\\envs\\health-integration\\lib\\site-packages\\sqlalchemy\\engine\\base.py\u001b[0m in \u001b[0;36m_execute_context\u001b[1;34m(self, dialect, constructor, statement, parameters, *args)\u001b[0m\n\u001b[0;32m   1248\u001b[0m         \u001b[1;32mexcept\u001b[0m \u001b[0mBaseException\u001b[0m \u001b[1;32mas\u001b[0m \u001b[0me\u001b[0m\u001b[1;33m:\u001b[0m\u001b[1;33m\u001b[0m\u001b[1;33m\u001b[0m\u001b[0m\n\u001b[0;32m   1249\u001b[0m             self._handle_dbapi_exception(\n\u001b[1;32m-> 1250\u001b[1;33m                 \u001b[0me\u001b[0m\u001b[1;33m,\u001b[0m \u001b[0mstatement\u001b[0m\u001b[1;33m,\u001b[0m \u001b[0mparameters\u001b[0m\u001b[1;33m,\u001b[0m \u001b[0mcursor\u001b[0m\u001b[1;33m,\u001b[0m \u001b[0mcontext\u001b[0m\u001b[1;33m\u001b[0m\u001b[1;33m\u001b[0m\u001b[0m\n\u001b[0m\u001b[0;32m   1251\u001b[0m             )\n\u001b[0;32m   1252\u001b[0m \u001b[1;33m\u001b[0m\u001b[0m\n",
      "\u001b[1;32m~\\AppData\\Local\\Continuum\\anaconda3\\envs\\health-integration\\lib\\site-packages\\sqlalchemy\\engine\\base.py\u001b[0m in \u001b[0;36m_handle_dbapi_exception\u001b[1;34m(self, e, statement, parameters, cursor, context)\u001b[0m\n\u001b[0;32m   1474\u001b[0m                 \u001b[0mutil\u001b[0m\u001b[1;33m.\u001b[0m\u001b[0mraise_from_cause\u001b[0m\u001b[1;33m(\u001b[0m\u001b[0mnewraise\u001b[0m\u001b[1;33m,\u001b[0m \u001b[0mexc_info\u001b[0m\u001b[1;33m)\u001b[0m\u001b[1;33m\u001b[0m\u001b[1;33m\u001b[0m\u001b[0m\n\u001b[0;32m   1475\u001b[0m             \u001b[1;32melif\u001b[0m \u001b[0mshould_wrap\u001b[0m\u001b[1;33m:\u001b[0m\u001b[1;33m\u001b[0m\u001b[1;33m\u001b[0m\u001b[0m\n\u001b[1;32m-> 1476\u001b[1;33m                 \u001b[0mutil\u001b[0m\u001b[1;33m.\u001b[0m\u001b[0mraise_from_cause\u001b[0m\u001b[1;33m(\u001b[0m\u001b[0msqlalchemy_exception\u001b[0m\u001b[1;33m,\u001b[0m \u001b[0mexc_info\u001b[0m\u001b[1;33m)\u001b[0m\u001b[1;33m\u001b[0m\u001b[1;33m\u001b[0m\u001b[0m\n\u001b[0m\u001b[0;32m   1477\u001b[0m             \u001b[1;32melse\u001b[0m\u001b[1;33m:\u001b[0m\u001b[1;33m\u001b[0m\u001b[1;33m\u001b[0m\u001b[0m\n\u001b[0;32m   1478\u001b[0m                 \u001b[0mutil\u001b[0m\u001b[1;33m.\u001b[0m\u001b[0mreraise\u001b[0m\u001b[1;33m(\u001b[0m\u001b[1;33m*\u001b[0m\u001b[0mexc_info\u001b[0m\u001b[1;33m)\u001b[0m\u001b[1;33m\u001b[0m\u001b[1;33m\u001b[0m\u001b[0m\n",
      "\u001b[1;32m~\\AppData\\Local\\Continuum\\anaconda3\\envs\\health-integration\\lib\\site-packages\\sqlalchemy\\util\\compat.py\u001b[0m in \u001b[0;36mraise_from_cause\u001b[1;34m(exception, exc_info)\u001b[0m\n\u001b[0;32m    396\u001b[0m     \u001b[0mexc_type\u001b[0m\u001b[1;33m,\u001b[0m \u001b[0mexc_value\u001b[0m\u001b[1;33m,\u001b[0m \u001b[0mexc_tb\u001b[0m \u001b[1;33m=\u001b[0m \u001b[0mexc_info\u001b[0m\u001b[1;33m\u001b[0m\u001b[1;33m\u001b[0m\u001b[0m\n\u001b[0;32m    397\u001b[0m     \u001b[0mcause\u001b[0m \u001b[1;33m=\u001b[0m \u001b[0mexc_value\u001b[0m \u001b[1;32mif\u001b[0m \u001b[0mexc_value\u001b[0m \u001b[1;32mis\u001b[0m \u001b[1;32mnot\u001b[0m \u001b[0mexception\u001b[0m \u001b[1;32melse\u001b[0m \u001b[1;32mNone\u001b[0m\u001b[1;33m\u001b[0m\u001b[1;33m\u001b[0m\u001b[0m\n\u001b[1;32m--> 398\u001b[1;33m     \u001b[0mreraise\u001b[0m\u001b[1;33m(\u001b[0m\u001b[0mtype\u001b[0m\u001b[1;33m(\u001b[0m\u001b[0mexception\u001b[0m\u001b[1;33m)\u001b[0m\u001b[1;33m,\u001b[0m \u001b[0mexception\u001b[0m\u001b[1;33m,\u001b[0m \u001b[0mtb\u001b[0m\u001b[1;33m=\u001b[0m\u001b[0mexc_tb\u001b[0m\u001b[1;33m,\u001b[0m \u001b[0mcause\u001b[0m\u001b[1;33m=\u001b[0m\u001b[0mcause\u001b[0m\u001b[1;33m)\u001b[0m\u001b[1;33m\u001b[0m\u001b[1;33m\u001b[0m\u001b[0m\n\u001b[0m\u001b[0;32m    399\u001b[0m \u001b[1;33m\u001b[0m\u001b[0m\n\u001b[0;32m    400\u001b[0m \u001b[1;33m\u001b[0m\u001b[0m\n",
      "\u001b[1;32m~\\AppData\\Local\\Continuum\\anaconda3\\envs\\health-integration\\lib\\site-packages\\sqlalchemy\\util\\compat.py\u001b[0m in \u001b[0;36mreraise\u001b[1;34m(tp, value, tb, cause)\u001b[0m\n\u001b[0;32m    150\u001b[0m             \u001b[0mvalue\u001b[0m\u001b[1;33m.\u001b[0m\u001b[0m__cause__\u001b[0m \u001b[1;33m=\u001b[0m \u001b[0mcause\u001b[0m\u001b[1;33m\u001b[0m\u001b[1;33m\u001b[0m\u001b[0m\n\u001b[0;32m    151\u001b[0m         \u001b[1;32mif\u001b[0m \u001b[0mvalue\u001b[0m\u001b[1;33m.\u001b[0m\u001b[0m__traceback__\u001b[0m \u001b[1;32mis\u001b[0m \u001b[1;32mnot\u001b[0m \u001b[0mtb\u001b[0m\u001b[1;33m:\u001b[0m\u001b[1;33m\u001b[0m\u001b[1;33m\u001b[0m\u001b[0m\n\u001b[1;32m--> 152\u001b[1;33m             \u001b[1;32mraise\u001b[0m \u001b[0mvalue\u001b[0m\u001b[1;33m.\u001b[0m\u001b[0mwith_traceback\u001b[0m\u001b[1;33m(\u001b[0m\u001b[0mtb\u001b[0m\u001b[1;33m)\u001b[0m\u001b[1;33m\u001b[0m\u001b[1;33m\u001b[0m\u001b[0m\n\u001b[0m\u001b[0;32m    153\u001b[0m         \u001b[1;32mraise\u001b[0m \u001b[0mvalue\u001b[0m\u001b[1;33m\u001b[0m\u001b[1;33m\u001b[0m\u001b[0m\n\u001b[0;32m    154\u001b[0m \u001b[1;33m\u001b[0m\u001b[0m\n",
      "\u001b[1;32m~\\AppData\\Local\\Continuum\\anaconda3\\envs\\health-integration\\lib\\site-packages\\sqlalchemy\\engine\\base.py\u001b[0m in \u001b[0;36m_execute_context\u001b[1;34m(self, dialect, constructor, statement, parameters, *args)\u001b[0m\n\u001b[0;32m   1244\u001b[0m                 \u001b[1;32mif\u001b[0m \u001b[1;32mnot\u001b[0m \u001b[0mevt_handled\u001b[0m\u001b[1;33m:\u001b[0m\u001b[1;33m\u001b[0m\u001b[1;33m\u001b[0m\u001b[0m\n\u001b[0;32m   1245\u001b[0m                     self.dialect.do_execute(\n\u001b[1;32m-> 1246\u001b[1;33m                         \u001b[0mcursor\u001b[0m\u001b[1;33m,\u001b[0m \u001b[0mstatement\u001b[0m\u001b[1;33m,\u001b[0m \u001b[0mparameters\u001b[0m\u001b[1;33m,\u001b[0m \u001b[0mcontext\u001b[0m\u001b[1;33m\u001b[0m\u001b[1;33m\u001b[0m\u001b[0m\n\u001b[0m\u001b[0;32m   1247\u001b[0m                     )\n\u001b[0;32m   1248\u001b[0m         \u001b[1;32mexcept\u001b[0m \u001b[0mBaseException\u001b[0m \u001b[1;32mas\u001b[0m \u001b[0me\u001b[0m\u001b[1;33m:\u001b[0m\u001b[1;33m\u001b[0m\u001b[1;33m\u001b[0m\u001b[0m\n",
      "\u001b[1;32m~\\AppData\\Local\\Continuum\\anaconda3\\envs\\health-integration\\lib\\site-packages\\sqlalchemy\\engine\\default.py\u001b[0m in \u001b[0;36mdo_execute\u001b[1;34m(self, cursor, statement, parameters, context)\u001b[0m\n\u001b[0;32m    579\u001b[0m \u001b[1;33m\u001b[0m\u001b[0m\n\u001b[0;32m    580\u001b[0m     \u001b[1;32mdef\u001b[0m \u001b[0mdo_execute\u001b[0m\u001b[1;33m(\u001b[0m\u001b[0mself\u001b[0m\u001b[1;33m,\u001b[0m \u001b[0mcursor\u001b[0m\u001b[1;33m,\u001b[0m \u001b[0mstatement\u001b[0m\u001b[1;33m,\u001b[0m \u001b[0mparameters\u001b[0m\u001b[1;33m,\u001b[0m \u001b[0mcontext\u001b[0m\u001b[1;33m=\u001b[0m\u001b[1;32mNone\u001b[0m\u001b[1;33m)\u001b[0m\u001b[1;33m:\u001b[0m\u001b[1;33m\u001b[0m\u001b[1;33m\u001b[0m\u001b[0m\n\u001b[1;32m--> 581\u001b[1;33m         \u001b[0mcursor\u001b[0m\u001b[1;33m.\u001b[0m\u001b[0mexecute\u001b[0m\u001b[1;33m(\u001b[0m\u001b[0mstatement\u001b[0m\u001b[1;33m,\u001b[0m \u001b[0mparameters\u001b[0m\u001b[1;33m)\u001b[0m\u001b[1;33m\u001b[0m\u001b[1;33m\u001b[0m\u001b[0m\n\u001b[0m\u001b[0;32m    582\u001b[0m \u001b[1;33m\u001b[0m\u001b[0m\n\u001b[0;32m    583\u001b[0m     \u001b[1;32mdef\u001b[0m \u001b[0mdo_execute_no_params\u001b[0m\u001b[1;33m(\u001b[0m\u001b[0mself\u001b[0m\u001b[1;33m,\u001b[0m \u001b[0mcursor\u001b[0m\u001b[1;33m,\u001b[0m \u001b[0mstatement\u001b[0m\u001b[1;33m,\u001b[0m \u001b[0mcontext\u001b[0m\u001b[1;33m=\u001b[0m\u001b[1;32mNone\u001b[0m\u001b[1;33m)\u001b[0m\u001b[1;33m:\u001b[0m\u001b[1;33m\u001b[0m\u001b[1;33m\u001b[0m\u001b[0m\n",
      "\u001b[1;31mOperationalError\u001b[0m: (sqlite3.OperationalError) SELECTs to the left and right of UNION do not have the same number of result columns\n[SQL: SELECT * FROM ihme_gbd_2017_data_cb71683c_10 WHERE cause_id IN (643, 411, 417, 974, 975, 976, 587, 997, 998, 297, 516, 494, 492, 493, 495, 498, 504, 432, 981, 374, 1000, 543, 474, 627, 674, 675, 426)\nUNION\nSELECT * FROM ihme_gbd_2017_data_cb71683c_11 WHERE cause_id IN (643, 411, 417, 974, 975, 976, 587, 997, 998, 297, 516, 494, 492, 493, 495, 498, 504, 432, 981, 374, 1000, 543, 474, 627, 674, 675, 426)\nUNION\nSELECT * FROM ihme_gbd_2017_data_cb71683c_12 WHERE cause_id IN (643, 411, 417, 974, 975, 976, 587, 997, 998, 297, 516, 494, 492, 493, 495, 498, 504, 432, 981, 374, 1000, 543, 474, 627, 674, 675, 426)\nUNION\nSELECT * FROM ihme_gbd_2017_data_cb71683c_14 WHERE cause_id IN (643, 411, 417, 974, 975, 976, 587, 997, 998, 297, 516, 494, 492, 493, 495, 498, 504, 432, 981, 374, 1000, 543, 474, 627, 674, 675, 426)\nUNION\nSELECT * FROM ihme_gbd_2017_data_cb71683c_15 WHERE cause_id IN (643, 411, 417, 974, 975, 976, 587, 997, 998, 297, 516, 494, 492, 493, 495, 498, 504, 432, 981, 374, 1000, 543, 474, 627, 674, 675, 426)\nUNION\nSELECT * FROM ihme_gbd_2017_data_cb71683c_17 WHERE cause_id IN (643, 411, 417, 974, 975, 976, 587, 997, 998, 297, 516, 494, 492, 493, 495, 498, 504, 432, 981, 374, 1000, 543, 474, 627, 674, 675, 426)\nUNION\nSELECT * FROM ihme_gbd_2017_data_cb71683c_18 WHERE cause_id IN (643, 411, 417, 974, 975, 976, 587, 997, 998, 297, 516, 494, 492, 493, 495, 498, 504, 432, 981, 374, 1000, 543, 474, 627, 674, 675, 426)\nUNION\nSELECT * FROM ihme_gbd_2017_data_cb71683c_19 WHERE cause_id IN (643, 411, 417, 974, 975, 976, 587, 997, 998, 297, 516, 494, 492, 493, 495, 498, 504, 432, 981, 374, 1000, 543, 474, 627, 674, 675, 426)\nUNION\nSELECT * FROM ihme_gbd_2017_data_cb71683c_2 WHERE cause_id IN (643, 411, 417, 974, 975, 976, 587, 997, 998, 297, 516, 494, 492, 493, 495, 498, 504, 432, 981, 374, 1000, 543, 474, 627, 674, 675, 426)\nUNION\nSELECT * FROM ihme_gbd_2017_data_cb71683c_20 WHERE cause_id IN (643, 411, 417, 974, 975, 976, 587, 997, 998, 297, 516, 494, 492, 493, 495, 498, 504, 432, 981, 374, 1000, 543, 474, 627, 674, 675, 426)\nUNION\nSELECT * FROM ihme_gbd_2017_data_cb71683c_21 WHERE cause_id IN (643, 411, 417, 974, 975, 976, 587, 997, 998, 297, 516, 494, 492, 493, 495, 498, 504, 432, 981, 374, 1000, 543, 474, 627, 674, 675, 426)\nUNION\nSELECT * FROM ihme_gbd_2017_data_cb71683c_22 WHERE cause_id IN (643, 411, 417, 974, 975, 976, 587, 997, 998, 297, 516, 494, 492, 493, 495, 498, 504, 432, 981, 374, 1000, 543, 474, 627, 674, 675, 426)\nUNION\nSELECT * FROM ihme_gbd_2017_data_cb71683c_23 WHERE cause_id IN (643, 411, 417, 974, 975, 976, 587, 997, 998, 297, 516, 494, 492, 493, 495, 498, 504, 432, 981, 374, 1000, 543, 474, 627, 674, 675, 426)\nUNION\nSELECT * FROM ihme_gbd_2017_data_cb71683c_24 WHERE cause_id IN (643, 411, 417, 974, 975, 976, 587, 997, 998, 297, 516, 494, 492, 493, 495, 498, 504, 432, 981, 374, 1000, 543, 474, 627, 674, 675, 426)\nUNION\nSELECT * FROM ihme_gbd_2017_data_cb71683c_25 WHERE cause_id IN (643, 411, 417, 974, 975, 976, 587, 997, 998, 297, 516, 494, 492, 493, 495, 498, 504, 432, 981, 374, 1000, 543, 474, 627, 674, 675, 426)\nUNION\nSELECT * FROM ihme_gbd_2017_data_cb71683c_26 WHERE cause_id IN (643, 411, 417, 974, 975, 976, 587, 997, 998, 297, 516, 494, 492, 493, 495, 498, 504, 432, 981, 374, 1000, 543, 474, 627, 674, 675, 426)\nUNION\nSELECT * FROM ihme_gbd_2017_data_cb71683c_27 WHERE cause_id IN (643, 411, 417, 974, 975, 976, 587, 997, 998, 297, 516, 494, 492, 493, 495, 498, 504, 432, 981, 374, 1000, 543, 474, 627, 674, 675, 426)\nUNION\nSELECT * FROM ihme_gbd_2017_data_cb71683c_28 WHERE cause_id IN (643, 411, 417, 974, 975, 976, 587, 997, 998, 297, 516, 494, 492, 493, 495, 498, 504, 432, 981, 374, 1000, 543, 474, 627, 674, 675, 426)\nUNION\nSELECT * FROM ihme_gbd_2017_data_cb71683c_29 WHERE cause_id IN (643, 411, 417, 974, 975, 976, 587, 997, 998, 297, 516, 494, 492, 493, 495, 498, 504, 432, 981, 374, 1000, 543, 474, 627, 674, 675, 426)\nUNION\nSELECT * FROM ihme_gbd_2017_data_cb71683c_3 WHERE cause_id IN (643, 411, 417, 974, 975, 976, 587, 997, 998, 297, 516, 494, 492, 493, 495, 498, 504, 432, 981, 374, 1000, 543, 474, 627, 674, 675, 426)\nUNION\nSELECT * FROM ihme_gbd_2017_data_cb71683c_30 WHERE cause_id IN (643, 411, 417, 974, 975, 976, 587, 997, 998, 297, 516, 494, 492, 493, 495, 498, 504, 432, 981, 374, 1000, 543, 474, 627, 674, 675, 426)\nUNION\nSELECT * FROM ihme_gbd_2017_data_cb71683c_31 WHERE cause_id IN (643, 411, 417, 974, 975, 976, 587, 997, 998, 297, 516, 494, 492, 493, 495, 498, 504, 432, 981, 374, 1000, 543, 474, 627, 674, 675, 426)\nUNION\nSELECT * FROM ihme_gbd_2017_data_cb71683c_4 WHERE cause_id IN (643, 411, 417, 974, 975, 976, 587, 997, 998, 297, 516, 494, 492, 493, 495, 498, 504, 432, 981, 374, 1000, 543, 474, 627, 674, 675, 426)\nUNION\nSELECT * FROM ihme_gbd_2017_data_cb71683c_5 WHERE cause_id IN (643, 411, 417, 974, 975, 976, 587, 997, 998, 297, 516, 494, 492, 493, 495, 498, 504, 432, 981, 374, 1000, 543, 474, 627, 674, 675, 426)\nUNION\nSELECT * FROM ihme_gbd_2017_data_cb71683c_6 WHERE cause_id IN (643, 411, 417, 974, 975, 976, 587, 997, 998, 297, 516, 494, 492, 493, 495, 498, 504, 432, 981, 374, 1000, 543, 474, 627, 674, 675, 426)\nUNION\nSELECT * FROM ihme_gbd_2017_data_cb71683c_7 WHERE cause_id IN (643, 411, 417, 974, 975, 976, 587, 997, 998, 297, 516, 494, 492, 493, 495, 498, 504, 432, 981, 374, 1000, 543, 474, 627, 674, 675, 426)\nUNION\nSELECT * FROM ihme_gbd_2017_data_cb71683c_8 WHERE cause_id IN (643, 411, 417, 974, 975, 976, 587, 997, 998, 297, 516, 494, 492, 493, 495, 498, 504, 432, 981, 374, 1000, 543, 474, 627, 674, 675, 426)\nUNION\nSELECT * FROM ihme_gbd_2017_data_cb71683c_9 WHERE cause_id IN (643, 411, 417, 974, 975, 976, 587, 997, 998, 297, 516, 494, 492, 493, 495, 498, 504, 432, 981, 374, 1000, 543, 474, 627, 674, 675, 426)\nUNION\nSELECT * FROM ihme_gbd_2017_data_cb71683c_1 WHERE cause_id IN (643, 411, 417, 974, 975, 976, 587, 997, 998, 297, 516, 494, 492, 493, 495, 498, 504, 432, 981, 374, 1000, 543, 474, 627, 674, 675, 426)\nUNION\nSELECT * FROM ihme_smoking_diseases WHERE cause_id IN (643, 411, 417, 974, 975, 976, 587, 997, 998, 297, 516, 494, 492, 493, 495, 498, 504, 432, 981, 374, 1000, 543, 474, 627, 674, 675, 426)]\n(Background on this error at: http://sqlalche.me/e/e3q8)"
     ]
    }
   ],
   "source": [
    "# build the sql string by concatenating SELECTs using UNION\n",
    "sql = '\\nUNION\\n'.join(\n",
    "    [\"SELECT * FROM {} WHERE cause_id IN ({})\".format(table_name, cause_ids) for table_name in ihme_tables]\n",
    ")\n",
    "ihme_df = pd.read_sql_query(sql, engine) # 155 seconds\n",
    "ihme_df.to_sql('ihme_smoking_diseases', con=engine, if_exists='replace')"
   ]
  },
  {
   "cell_type": "code",
   "execution_count": 5,
   "metadata": {},
   "outputs": [
    {
     "name": "stdout",
     "output_type": "stream",
     "text": [
      "SELECT * FROM ihme_gbd_2017_data_cb71683c_10 WHERE cause_id IN (643, 411, 417, 974, 975, 976, 587, 997, 998, 297, 516, 494, 492, 493, 495, 498, 504, 432, 981, 374, 1000, 543, 474, 627, 674, 675, 426)\n",
      "UNION\n",
      "SELECT * FROM ihme_gbd_2017_data_cb71683c_11 WHERE cause_id IN (643, 411, 417, 974, 975, 976, 587, 997, 998, 297, 516, 494, 492, 493, 495, 498, 504, 432, 981, 374, 1000, 543, 474, 627, 674, 675, 426)\n",
      "UNION\n",
      "SELECT * FROM ihme_gbd_2017_data_cb71683c_12 WHERE cause_id IN (643, 411, 417, 974, 975, 976, 587, 997, 998, 297, 516, 494, 492, 493, 495, 498, 504, 432, 981, 374, 1000, 543, 474, 627, 674, 675, 426)\n",
      "UNION\n",
      "SELECT * FROM ihme_gbd_2017_data_cb71683c_14 WHERE cause_id IN (643, 411, 417, 974, 975, 976, 587, 997, 998, 297, 516, 494, 492, 493, 495, 498, 504, 432, 981, 374, 1000, 543, 474, 627, 674, 675, 426)\n",
      "UNION\n",
      "SELECT * FROM ihme_gbd_2017_data_cb71683c_15 WHERE cause_id IN (643, 411, 417, 974, 975, 976, 587, 997, 998, 297, 516, 494, 492, 493, 495, 498, 504, 432, 981, 374, 1000, 543, 474, 627, 674, 675, 426)\n",
      "UNION\n",
      "SELECT * FROM ihme_gbd_2017_data_cb71683c_17 WHERE cause_id IN (643, 411, 417, 974, 975, 976, 587, 997, 998, 297, 516, 494, 492, 493, 495, 498, 504, 432, 981, 374, 1000, 543, 474, 627, 674, 675, 426)\n",
      "UNION\n",
      "SELECT * FROM ihme_gbd_2017_data_cb71683c_18 WHERE cause_id IN (643, 411, 417, 974, 975, 976, 587, 997, 998, 297, 516, 494, 492, 493, 495, 498, 504, 432, 981, 374, 1000, 543, 474, 627, 674, 675, 426)\n",
      "UNION\n",
      "SELECT * FROM ihme_gbd_2017_data_cb71683c_19 WHERE cause_id IN (643, 411, 417, 974, 975, 976, 587, 997, 998, 297, 516, 494, 492, 493, 495, 498, 504, 432, 981, 374, 1000, 543, 474, 627, 674, 675, 426)\n",
      "UNION\n",
      "SELECT * FROM ihme_gbd_2017_data_cb71683c_2 WHERE cause_id IN (643, 411, 417, 974, 975, 976, 587, 997, 998, 297, 516, 494, 492, 493, 495, 498, 504, 432, 981, 374, 1000, 543, 474, 627, 674, 675, 426)\n",
      "UNION\n",
      "SELECT * FROM ihme_gbd_2017_data_cb71683c_20 WHERE cause_id IN (643, 411, 417, 974, 975, 976, 587, 997, 998, 297, 516, 494, 492, 493, 495, 498, 504, 432, 981, 374, 1000, 543, 474, 627, 674, 675, 426)\n",
      "UNION\n",
      "SELECT * FROM ihme_gbd_2017_data_cb71683c_21 WHERE cause_id IN (643, 411, 417, 974, 975, 976, 587, 997, 998, 297, 516, 494, 492, 493, 495, 498, 504, 432, 981, 374, 1000, 543, 474, 627, 674, 675, 426)\n",
      "UNION\n",
      "SELECT * FROM ihme_gbd_2017_data_cb71683c_22 WHERE cause_id IN (643, 411, 417, 974, 975, 976, 587, 997, 998, 297, 516, 494, 492, 493, 495, 498, 504, 432, 981, 374, 1000, 543, 474, 627, 674, 675, 426)\n",
      "UNION\n",
      "SELECT * FROM ihme_gbd_2017_data_cb71683c_23 WHERE cause_id IN (643, 411, 417, 974, 975, 976, 587, 997, 998, 297, 516, 494, 492, 493, 495, 498, 504, 432, 981, 374, 1000, 543, 474, 627, 674, 675, 426)\n",
      "UNION\n",
      "SELECT * FROM ihme_gbd_2017_data_cb71683c_24 WHERE cause_id IN (643, 411, 417, 974, 975, 976, 587, 997, 998, 297, 516, 494, 492, 493, 495, 498, 504, 432, 981, 374, 1000, 543, 474, 627, 674, 675, 426)\n",
      "UNION\n",
      "SELECT * FROM ihme_gbd_2017_data_cb71683c_25 WHERE cause_id IN (643, 411, 417, 974, 975, 976, 587, 997, 998, 297, 516, 494, 492, 493, 495, 498, 504, 432, 981, 374, 1000, 543, 474, 627, 674, 675, 426)\n",
      "UNION\n",
      "SELECT * FROM ihme_gbd_2017_data_cb71683c_26 WHERE cause_id IN (643, 411, 417, 974, 975, 976, 587, 997, 998, 297, 516, 494, 492, 493, 495, 498, 504, 432, 981, 374, 1000, 543, 474, 627, 674, 675, 426)\n",
      "UNION\n",
      "SELECT * FROM ihme_gbd_2017_data_cb71683c_27 WHERE cause_id IN (643, 411, 417, 974, 975, 976, 587, 997, 998, 297, 516, 494, 492, 493, 495, 498, 504, 432, 981, 374, 1000, 543, 474, 627, 674, 675, 426)\n",
      "UNION\n",
      "SELECT * FROM ihme_gbd_2017_data_cb71683c_28 WHERE cause_id IN (643, 411, 417, 974, 975, 976, 587, 997, 998, 297, 516, 494, 492, 493, 495, 498, 504, 432, 981, 374, 1000, 543, 474, 627, 674, 675, 426)\n",
      "UNION\n",
      "SELECT * FROM ihme_gbd_2017_data_cb71683c_29 WHERE cause_id IN (643, 411, 417, 974, 975, 976, 587, 997, 998, 297, 516, 494, 492, 493, 495, 498, 504, 432, 981, 374, 1000, 543, 474, 627, 674, 675, 426)\n",
      "UNION\n",
      "SELECT * FROM ihme_gbd_2017_data_cb71683c_3 WHERE cause_id IN (643, 411, 417, 974, 975, 976, 587, 997, 998, 297, 516, 494, 492, 493, 495, 498, 504, 432, 981, 374, 1000, 543, 474, 627, 674, 675, 426)\n",
      "UNION\n",
      "SELECT * FROM ihme_gbd_2017_data_cb71683c_30 WHERE cause_id IN (643, 411, 417, 974, 975, 976, 587, 997, 998, 297, 516, 494, 492, 493, 495, 498, 504, 432, 981, 374, 1000, 543, 474, 627, 674, 675, 426)\n",
      "UNION\n",
      "SELECT * FROM ihme_gbd_2017_data_cb71683c_31 WHERE cause_id IN (643, 411, 417, 974, 975, 976, 587, 997, 998, 297, 516, 494, 492, 493, 495, 498, 504, 432, 981, 374, 1000, 543, 474, 627, 674, 675, 426)\n",
      "UNION\n",
      "SELECT * FROM ihme_gbd_2017_data_cb71683c_4 WHERE cause_id IN (643, 411, 417, 974, 975, 976, 587, 997, 998, 297, 516, 494, 492, 493, 495, 498, 504, 432, 981, 374, 1000, 543, 474, 627, 674, 675, 426)\n",
      "UNION\n",
      "SELECT * FROM ihme_gbd_2017_data_cb71683c_5 WHERE cause_id IN (643, 411, 417, 974, 975, 976, 587, 997, 998, 297, 516, 494, 492, 493, 495, 498, 504, 432, 981, 374, 1000, 543, 474, 627, 674, 675, 426)\n",
      "UNION\n",
      "SELECT * FROM ihme_gbd_2017_data_cb71683c_6 WHERE cause_id IN (643, 411, 417, 974, 975, 976, 587, 997, 998, 297, 516, 494, 492, 493, 495, 498, 504, 432, 981, 374, 1000, 543, 474, 627, 674, 675, 426)\n",
      "UNION\n",
      "SELECT * FROM ihme_gbd_2017_data_cb71683c_7 WHERE cause_id IN (643, 411, 417, 974, 975, 976, 587, 997, 998, 297, 516, 494, 492, 493, 495, 498, 504, 432, 981, 374, 1000, 543, 474, 627, 674, 675, 426)\n",
      "UNION\n",
      "SELECT * FROM ihme_gbd_2017_data_cb71683c_8 WHERE cause_id IN (643, 411, 417, 974, 975, 976, 587, 997, 998, 297, 516, 494, 492, 493, 495, 498, 504, 432, 981, 374, 1000, 543, 474, 627, 674, 675, 426)\n",
      "UNION\n",
      "SELECT * FROM ihme_gbd_2017_data_cb71683c_9 WHERE cause_id IN (643, 411, 417, 974, 975, 976, 587, 997, 998, 297, 516, 494, 492, 493, 495, 498, 504, 432, 981, 374, 1000, 543, 474, 627, 674, 675, 426)\n",
      "UNION\n",
      "SELECT * FROM ihme_gbd_2017_data_cb71683c_1 WHERE cause_id IN (643, 411, 417, 974, 975, 976, 587, 997, 998, 297, 516, 494, 492, 493, 495, 498, 504, 432, 981, 374, 1000, 543, 474, 627, 674, 675, 426)\n",
      "UNION\n",
      "SELECT * FROM ihme_smoking_diseases WHERE cause_id IN (643, 411, 417, 974, 975, 976, 587, 997, 998, 297, 516, 494, 492, 493, 495, 498, 504, 432, 981, 374, 1000, 543, 474, 627, 674, 675, 426)\n"
     ]
    }
   ],
   "source": [
    "print(sql)"
   ]
  }
 ],
 "metadata": {
  "kernelspec": {
   "display_name": "Python 3",
   "language": "python",
   "name": "python3"
  },
  "language_info": {
   "codemirror_mode": {
    "name": "ipython",
    "version": 3
   },
   "file_extension": ".py",
   "mimetype": "text/x-python",
   "name": "python",
   "nbconvert_exporter": "python",
   "pygments_lexer": "ipython3",
   "version": "3.7.5"
  }
 },
 "nbformat": 4,
 "nbformat_minor": 2
}
