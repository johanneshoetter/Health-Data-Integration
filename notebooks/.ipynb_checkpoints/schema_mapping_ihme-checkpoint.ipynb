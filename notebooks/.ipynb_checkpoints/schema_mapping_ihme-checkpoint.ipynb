{
 "cells": [
  {
   "cell_type": "markdown",
   "metadata": {},
   "source": [
    "# Schema Mapping for IHME tables"
   ]
  },
  {
   "cell_type": "code",
   "execution_count": 1,
   "metadata": {},
   "outputs": [],
   "source": [
    "import pandas as pd\n",
    "import sqlalchemy as db\n",
    "engine = db.create_engine('sqlite:///../data/RawHealthData.db')\n",
    "connection = engine.connect()"
   ]
  },
  {
   "cell_type": "code",
   "execution_count": 2,
   "metadata": {},
   "outputs": [],
   "source": [
    "# get all ihme tables that need to be united\n",
    "sql = \"\"\"\n",
    "SELECT name\n",
    "FROM sqlite_master\n",
    "WHERE type = 'table'\n",
    "AND name LIKE 'ihme_gbd%'\n",
    ";\n",
    "\"\"\"\n",
    "df = pd.read_sql_query(sql, engine)\n",
    "ihme_tables = df['name'].values"
   ]
  },
  {
   "cell_type": "code",
   "execution_count": 3,
   "metadata": {},
   "outputs": [],
   "source": [
    "# filter values for the ihme tables\n",
    "# only rows containing information about the following topics will be addressed\n",
    "# reduces ihme content from 360 diseases to the 27 relevant for smoking\n",
    "filter_values = [\n",
    "    \"=          'Esophageal cancer'\",\n",
    "    \"=          'Liver cancer'\",\n",
    "    \"=          'Ectopic pregnancy'\",\n",
    "    \"=          'Tuberculosis'\",\n",
    "    \"=          'Rheumatoid arthritis'\",\n",
    "    \"=          'Bladder cancer'\",\n",
    "    \"=          'Cervical cancer'\",\n",
    "    \"=          'Psoriaris'\",\n",
    "    \"LIKE       '%diabetes%'\",\n",
    "    \"LIKE       '%heart%'\",\n",
    "    \"LIKE       '%vision%'\",\n",
    "    \"LIKE       '%lung%'\",\n",
    "    \"LIKE       '%stroke%'\",\n",
    "    \"LIKE       '%hearing%'\",\n",
    "    \"LIKE       '%dementia%'\"\n",
    "]\n",
    "sql = 'SELECT key AS cause_id, value AS disease FROM cause \\nWHERE' \\\n",
    "      + '\\n   OR'.join([' value {}'.format(filter_value) for filter_value in filter_values]) \\\n",
    "      + ';'\n",
    "result_set = connection.execute(sql).fetchall()\n",
    "\n",
    "# ihme tables will be filtered for the following cause ids\n",
    "cause_ids = ', '.join([str(row[0]) for row in result_set])\n",
    "\n",
    "# unneccessary values will be deleted from the lookup table, indicating which ihme tables won't be needed nomore\n",
    "sql = 'DELETE FROM cause WHERE key NOT IN ({});'.format(cause_ids)\n",
    "connection.execute(sql);"
   ]
  },
  {
   "cell_type": "code",
   "execution_count": 4,
   "metadata": {},
   "outputs": [],
   "source": [
    "# build the sql string by concatenating SELECTs using UNION\n",
    "sql = '\\nUNION\\n'.join(\n",
    "    [\"SELECT * FROM {} WHERE cause_id IN ({})\".format(table_name, cause_ids) for table_name in ihme_tables]\n",
    ")\n",
    "ihme_df = pd.read_sql_query(sql, engine) # 155 seconds\n",
    "ihme_df.to_sql('ihme_smoking_diseases', con=engine, if_exists='replace')"
   ]
  }
 ],
 "metadata": {
  "kernelspec": {
   "display_name": "Python 3",
   "language": "python",
   "name": "python3"
  },
  "language_info": {
   "codemirror_mode": {
    "name": "ipython",
    "version": 3
   },
   "file_extension": ".py",
   "mimetype": "text/x-python",
   "name": "python",
   "nbconvert_exporter": "python",
   "pygments_lexer": "ipython3",
   "version": "3.7.5"
  }
 },
 "nbformat": 4,
 "nbformat_minor": 2
}
