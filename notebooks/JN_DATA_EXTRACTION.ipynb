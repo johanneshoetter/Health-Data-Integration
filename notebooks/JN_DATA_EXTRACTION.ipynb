{
 "cells": [
  {
   "cell_type": "code",
   "execution_count": 5,
   "metadata": {},
   "outputs": [],
   "source": [
    "import pandas as pd\n",
    "import os\n",
    "from sqlalchemy import create_engine\n",
    "import io"
   ]
  },
  {
   "cell_type": "code",
   "execution_count": 6,
   "metadata": {},
   "outputs": [],
   "source": [
    "username = 'postgres'\n",
    "password = 'infint'\n",
    "host = 'localhost'\n",
    "port = '5432'\n",
    "database = 'postgres'\n",
    "\n",
    "engine = create_engine('postgresql://{}:{}@{}:{}/{}'.format(username, password, host, port, database))\n",
    "data_dir = r'C:\\Users\\Johannes\\Desktop\\HPI\\1. Semester\\Information Integration\\Projekt\\RAW_DATA'"
   ]
  },
  {
   "cell_type": "code",
   "execution_count": 7,
   "metadata": {},
   "outputs": [],
   "source": [
    "def df_to_sql(df, name, engine, if_exists='replace'):\n",
    "    df.head(0).to_sql(name, engine, if_exists=if_exists, index=False)\n",
    "    connection = engine.raw_connection()\n",
    "    cursor = connection.cursor()\n",
    "    output = io.StringIO()\n",
    "    df.to_csv(output, sep='\\t', header=False, index=False)\n",
    "    output.seek(0)\n",
    "    contens = output.getvalue()\n",
    "    cursor.copy_from(output, name, null=\"\")\n",
    "    connection.commit()"
   ]
  },
  {
   "cell_type": "code",
   "execution_count": 13,
   "metadata": {},
   "outputs": [
    {
     "name": "stdout",
     "output_type": "stream",
     "text": [
      "Creating table wdifootnote\n",
      "Saving to database\n",
      "\n"
     ]
    }
   ],
   "source": [
    "# get all .csv files\n",
    "for file in os.listdir(data_dir):\n",
    "    if file.endswith('.csv'):\n",
    "        table_name = file[:-4].replace('-', '_').lower() # last 4 characters are .csv\n",
    "        print(\"Creating table {}\".format(table_name))\n",
    "        df = pd.read_csv(os.path.join(data_dir, file), sep=',')\n",
    "        print(\"Saving to database\")\n",
    "        df_to_sql(df, table_name, engine)\n",
    "        print()"
   ]
  },
  {
   "cell_type": "markdown",
   "metadata": {},
   "source": [
    "### BackUp"
   ]
  },
  {
   "cell_type": "code",
   "execution_count": null,
   "metadata": {},
   "outputs": [],
   "source": [
    "#db_path = r'C:\\Users\\Johannes\\Desktop\\HPI\\1. Semester\\Information Integration\\DATABASES'\n",
    "#engine = sqlite3.connect(db_path)\n",
    "\n",
    "# get all .csv files\n",
    "#for file in os.listdir(data_dir):\n",
    "#    if file.endswith('.csv'):\n",
    "#        table_name = file[:-4] # last 4 characters are .csv\n",
    "#        # store them in a sqlite database\n",
    "#        df = pd.read_csv(os.path.join(data_dir, file), sep=',')\n",
    "#        df.to_sql(table_name, con=engine)"
   ]
  }
 ],
 "metadata": {
  "kernelspec": {
   "display_name": "Python 3",
   "language": "python",
   "name": "python3"
  },
  "language_info": {
   "codemirror_mode": {
    "name": "ipython",
    "version": 3
   },
   "file_extension": ".py",
   "mimetype": "text/x-python",
   "name": "python",
   "nbconvert_exporter": "python",
   "pygments_lexer": "ipython3",
   "version": "3.7.3"
  }
 },
 "nbformat": 4,
 "nbformat_minor": 2
}
